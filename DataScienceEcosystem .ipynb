{
 "cells": [
  {
   "cell_type": "markdown",
   "id": "d44c022f",
   "metadata": {},
   "source": [
    "# Data Science Tools and Ecosystem "
   ]
  },
  {
   "cell_type": "markdown",
   "id": "4c18e2f9",
   "metadata": {},
   "source": [
    "In this notebook, Data science tools and Ecosystem are summarized"
   ]
  },
  {
   "cell_type": "markdown",
   "id": "d8458108",
   "metadata": {},
   "source": [
    "**Objectives:**\n",
    "- Some of popular language that Data Scientists use.\n",
    "- Some of the commonly used libraries used by Data Scientists.\n",
    "- A markdown cell with a table of Data Science tools.\n",
    "- A markdown cell introducing arithmetic expression examples.\n",
    "- A code cell to multiply and add numbers.\n",
    "- A code cell to convert minutes to hours.\n",
    "- A markdown cell to list Objectives."
   ]
  },
  {
   "cell_type": "markdown",
   "id": "86b7591e",
   "metadata": {},
   "source": [
    "Some of the popular languages that Data Scientists use are:\n",
    "1. Python\n",
    "2. R\n",
    "3. SQL\n",
    "4. Scala \n",
    "5. JavaScript\n",
    "6. Go"
   ]
  },
  {
   "attachments": {},
   "cell_type": "markdown",
   "id": "8403e723",
   "metadata": {},
   "source": [
    "Some of the commonly used libraries used by Data Scientists include:\n",
    "1. Scientific libraries- Numpy,Pandas\n",
    "2. Visualization libraries-ggplot,matplotlib\n",
    "3. Machine Learning- Scikit-learn\n",
    "4. Deep Learning- Pytorch"
   ]
  },
  {
   "cell_type": "markdown",
   "id": "d0a85860",
   "metadata": {},
   "source": [
    "| Data Science Tools|\n",
    "|:-----------------:|\n",
    "|  Jupyter |\n",
    "|  R-Studio|\n",
    "|  Apache Zepplin|"
   ]
  },
  {
   "cell_type": "markdown",
   "id": "48a86660",
   "metadata": {},
   "source": [
    "## Below are a few examples of evaluating arithmetic expressions in Python"
   ]
  },
  {
   "cell_type": "code",
   "execution_count": 1,
   "id": "e0569cdf",
   "metadata": {},
   "outputs": [
    {
     "data": {
      "text/plain": [
       "125"
      ]
     },
     "execution_count": 1,
     "metadata": {},
     "output_type": "execute_result"
    }
   ],
   "source": [
    "(20+5)*5"
   ]
  },
  {
   "cell_type": "code",
   "execution_count": 2,
   "id": "abc9fec2",
   "metadata": {},
   "outputs": [
    {
     "data": {
      "text/plain": [
       "153"
      ]
     },
     "execution_count": 2,
     "metadata": {},
     "output_type": "execute_result"
    }
   ],
   "source": [
    "(32*5)-7"
   ]
  },
  {
   "cell_type": "code",
   "execution_count": 3,
   "id": "3db3ec36",
   "metadata": {},
   "outputs": [
    {
     "data": {
      "text/plain": [
       "7.0"
      ]
     },
     "execution_count": 3,
     "metadata": {},
     "output_type": "execute_result"
    }
   ],
   "source": [
    "(25/5)+2"
   ]
  },
  {
   "cell_type": "code",
   "execution_count": 4,
   "id": "9eaa2e68",
   "metadata": {},
   "outputs": [
    {
     "data": {
      "text/plain": [
       "17"
      ]
     },
     "execution_count": 4,
     "metadata": {},
     "output_type": "execute_result"
    }
   ],
   "source": [
    "#This a simple arithmetic expression to mutiply then add integers\n",
    "(3*4)+5"
   ]
  },
  {
   "cell_type": "code",
   "execution_count": 14,
   "id": "90d210ea",
   "metadata": {},
   "outputs": [
    {
     "data": {
      "text/plain": [
       "3.3333333333333335"
      ]
     },
     "execution_count": 14,
     "metadata": {},
     "output_type": "execute_result"
    }
   ],
   "source": [
    "#This will convert 200 minutes to hours by diving by 60\n",
    "(200/60)"
   ]
  },
  {
   "cell_type": "markdown",
   "id": "b1f80572",
   "metadata": {},
   "source": [
    "## Author\n",
    "name:PradeepRaj\n"
   ]
  },
  {
   "cell_type": "code",
   "execution_count": null,
   "id": "80b64ee2",
   "metadata": {},
   "outputs": [],
   "source": []
  }
 ],
 "metadata": {
  "kernelspec": {
   "display_name": "Python 3 (ipykernel)",
   "language": "python",
   "name": "python3"
  },
  "language_info": {
   "codemirror_mode": {
    "name": "ipython",
    "version": 3
   },
   "file_extension": ".py",
   "mimetype": "text/x-python",
   "name": "python",
   "nbconvert_exporter": "python",
   "pygments_lexer": "ipython3",
   "version": "3.10.9"
  }
 },
 "nbformat": 4,
 "nbformat_minor": 5
}
